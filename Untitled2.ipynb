{
 "cells": [
  {
   "cell_type": "code",
   "execution_count": 7,
   "id": "60b52d12-274e-4ede-b43b-94953269cefa",
   "metadata": {
    "execution": {
     "iopub.execute_input": "2024-10-02T10:55:07.459349Z",
     "iopub.status.busy": "2024-10-02T10:55:07.458469Z",
     "iopub.status.idle": "2024-10-02T10:55:07.588671Z",
     "shell.execute_reply": "2024-10-02T10:55:07.587718Z",
     "shell.execute_reply.started": "2024-10-02T10:55:07.459303Z"
    }
   },
   "outputs": [
    {
     "name": "stdout",
     "output_type": "stream",
     "text": [
      "/run/media/E_Drive/Technology/Python Project/Capstone/Insurance_Analytics_Prediction\n"
     ]
    }
   ],
   "source": [
    "!pwd"
   ]
  },
  {
   "cell_type": "code",
   "execution_count": 8,
   "id": "32962ff3-0a65-4c08-bb26-730f70ed5415",
   "metadata": {
    "execution": {
     "iopub.execute_input": "2024-10-02T10:55:29.918392Z",
     "iopub.status.busy": "2024-10-02T10:55:29.917978Z",
     "iopub.status.idle": "2024-10-02T10:55:30.060968Z",
     "shell.execute_reply": "2024-10-02T10:55:30.060065Z",
     "shell.execute_reply.started": "2024-10-02T10:55:29.918359Z"
    }
   },
   "outputs": [
    {
     "name": "stdout",
     "output_type": "stream",
     "text": [
      "zsh:1: command not found: conda\n"
     ]
    }
   ],
   "source": [
    "!conda activate ./insurance"
   ]
  }
 ],
 "metadata": {
  "kernelspec": {
   "display_name": "Python 3 (ipykernel)",
   "language": "python",
   "name": "python3"
  },
  "language_info": {
   "codemirror_mode": {
    "name": "ipython",
    "version": 3
   },
   "file_extension": ".py",
   "mimetype": "text/x-python",
   "name": "python",
   "nbconvert_exporter": "python",
   "pygments_lexer": "ipython3",
   "version": "3.12.5"
  }
 },
 "nbformat": 4,
 "nbformat_minor": 5
}
